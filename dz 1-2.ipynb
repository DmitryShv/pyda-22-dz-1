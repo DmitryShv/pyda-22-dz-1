{
 "cells": [
  {
   "cell_type": "code",
   "execution_count": 3,
   "metadata": {},
   "outputs": [
    {
     "name": "stdout",
     "output_type": "stream",
     "text": [
      "Введите год 2000\n",
      "Високосный год\n"
     ]
    }
   ],
   "source": [
    "year = int(input('Введите год '))\n",
    "if year % 400 != 0 and year % 100 == 0: # добавил этот цикл для проверки кратности на 400 и 100\n",
    "    print('Обычный год')\n",
    "elif year % 4 == 0:\n",
    "    print('Високосный год')\n",
    "elif year % 4 != 0:\n",
    "    print('Обычный год')"
   ]
  }
 ],
 "metadata": {
  "kernelspec": {
   "display_name": "Python 3",
   "language": "python",
   "name": "python3"
  },
  "language_info": {
   "codemirror_mode": {
    "name": "ipython",
    "version": 3
   },
   "file_extension": ".py",
   "mimetype": "text/x-python",
   "name": "python",
   "nbconvert_exporter": "python",
   "pygments_lexer": "ipython3",
   "version": "3.8.10"
  }
 },
 "nbformat": 4,
 "nbformat_minor": 4
}
