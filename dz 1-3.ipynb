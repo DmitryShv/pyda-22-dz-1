{
 "cells": [
  {
   "cell_type": "code",
   "execution_count": 17,
   "metadata": {},
   "outputs": [
    {
     "name": "stdout",
     "output_type": "stream",
     "text": [
      "Введите день рождения 20\n",
      "Введите месяц рождения (буквами) ИЮНЬ\n",
      "Ваш знак зодиака: Близнецы\n"
     ]
    }
   ],
   "source": [
    "date = int(input('Введите день рождения '))\n",
    "month = input('Введите месяц рождения (буквами) ')\n",
    "month = month.capitalize()\n",
    "\n",
    "if month == 'Март' and date >= 21 or month == 'Апрель' and date <= 20:\n",
    "    print('Ваш знак зодиака: Овен')\n",
    "elif month == 'Апрель' and date >= 21 or month == 'Май' and date <= 20:\n",
    "    print('Ваш знак зодиака: Телец')\n",
    "elif month == 'Май' and date >= 21 or month == 'Июнь' and date <= 20:\n",
    "    print('Ваш знак зодиака: Близнецы')\n",
    "elif month == 'Июнь' and date >= 21 or month == 'Июль' and date <= 22:\n",
    "    print('Ваш знак зодиака: Рак')\n",
    "elif month == 'Июль' and date >= 23 or month == 'Август' and date <= 22:\n",
    "    print('Ваш знак зодиака: Лев')\n",
    "elif month == 'Август' and date >= 23 or month == 'Сентябрь' and date <= 22:\n",
    "    print('Ваш знак зодиака: Дева')\n",
    "elif month == 'Сентябрь' and date >= 23 or month == 'Октябрь' and date <= 22:\n",
    "    print('Ваш знак зодиака: Весы')\n",
    "elif month == 'Октябрь' and date >= 23 or month == 'Ноябрь' and date <= 23:\n",
    "    print('Ваш знак зодиака: Скорпион')\n",
    "elif month == 'Ноябрь' and date >= 23 or month == 'Декабрь' and date <= 21:\n",
    "    print('Ваш знак зодиака: Стрелец')\n",
    "elif month == 'Декабрь' and date >= 22 or month == 'Январь' and date <= 19:\n",
    "    print('Ваш знак зодиака: Козерог')\n",
    "elif month == 'Январь' and date >= 20 or month == 'Февраль' and date <= 19:\n",
    "    print('Ваш знак зодиака: Водолей')\n",
    "elif month == 'Февраль' and date >= 20 or month == 'Март' and date <= 20:\n",
    "    print('Ваш знак зодиака: Рыбы')"
   ]
  }
 ],
 "metadata": {
  "kernelspec": {
   "display_name": "Python 3",
   "language": "python",
   "name": "python3"
  },
  "language_info": {
   "codemirror_mode": {
    "name": "ipython",
    "version": 3
   },
   "file_extension": ".py",
   "mimetype": "text/x-python",
   "name": "python",
   "nbconvert_exporter": "python",
   "pygments_lexer": "ipython3",
   "version": "3.8.10"
  }
 },
 "nbformat": 4,
 "nbformat_minor": 4
}
