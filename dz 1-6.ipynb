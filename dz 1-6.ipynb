{
 "cells": [
  {
   "cell_type": "markdown",
   "id": "8bbf2ded",
   "metadata": {},
   "source": [
    "## 1-6 (не обязательная задача)\n",
    "Напишите программу, которая сможет вычислять площади трех фигур (круг, треугольник и прямоугольник). \n",
    "\n",
    "Тип фигуры запрашиваем через пользовательский ввод, после чего делаем запрос характеристик фигуры:\n",
    "\n",
    "- если пользователь выбрал круг, запрашиваем его радиус,\n",
    "- если треугольник – длины трех его сторон;\n",
    "- если прямоугольник – длины двух его сторон."
   ]
  },
  {
   "cell_type": "code",
   "execution_count": 21,
   "id": "5043d129",
   "metadata": {
    "scrolled": true
   },
   "outputs": [
    {
     "name": "stdout",
     "output_type": "stream",
     "text": [
      "Введите тип фигуры: круг, треугольник или прямоугольник прямоугольник\n",
      "Введите длину стороны A 3\n",
      "Введите длину стороны B 5\n",
      "Площадь прямоугольника:  15\n"
     ]
    }
   ],
   "source": [
    "figure = input('Введите тип фигуры: круг, треугольник или прямоугольник ')\n",
    "figure = figure.lower()\n",
    "\n",
    "if figure == 'круг':\n",
    "    radius = int(input('Введите радиус круга '))\n",
    "    circle = 3.141592 * radius\n",
    "    print('Площадь круга: ', s)\n",
    "elif figure == 'треугольник':\n",
    "    a_length = int(input('Введите длину стороны A '))\n",
    "    b_length = int(input('Введите длину стороны B '))\n",
    "    c_length = int(input('Введите длину стороны C '))\n",
    "    # Площадь треугольника по формуле Герона\n",
    "    # S= 0.5 ** p(p−a)(p−b)(p−c)\n",
    "    # p (полупериметр) = (a+b+c)/2\n",
    "    p = (a_length + b_length + c_length) / 2\n",
    "    triangle = (p * (p - a_length) * (p - b_length) * (p - c_length)) ** 0.5\n",
    "    print('Площадь треугольника: ', triangle)\n",
    "elif figure == 'прямоугольник':\n",
    "    a_length = int(input('Введите длину стороны A '))\n",
    "    b_length = int(input('Введите длину стороны B '))\n",
    "    rectangle = a_length * b_length\n",
    "    print('Площадь прямоугольника: ', rectangle)"
   ]
  }
 ],
 "metadata": {
  "kernelspec": {
   "display_name": "Python 3",
   "language": "python",
   "name": "python3"
  },
  "language_info": {
   "codemirror_mode": {
    "name": "ipython",
    "version": 3
   },
   "file_extension": ".py",
   "mimetype": "text/x-python",
   "name": "python",
   "nbconvert_exporter": "python",
   "pygments_lexer": "ipython3",
   "version": "3.8.10"
  }
 },
 "nbformat": 4,
 "nbformat_minor": 5
}
